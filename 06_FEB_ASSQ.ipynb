{
 "cells": [
  {
   "cell_type": "code",
   "execution_count": 1,
   "id": "b6ce802c-811a-468c-a84e-b82c6250e173",
   "metadata": {},
   "outputs": [],
   "source": [
    "l=[3,2,1,1,2,3]"
   ]
  },
  {
   "cell_type": "code",
   "execution_count": 2,
   "id": "c1e1e87c-1487-40da-9972-37757657b597",
   "metadata": {},
   "outputs": [
    {
     "name": "stdout",
     "output_type": "stream",
     "text": [
      "3\n",
      "2\n",
      "1\n",
      "1\n",
      "2\n",
      "3\n"
     ]
    }
   ],
   "source": [
    "for i in list(l):\n",
    "    if type(i) is int:\n",
    "        print(i)"
   ]
  },
  {
   "cell_type": "code",
   "execution_count": 57,
   "id": "1d9775a7-3811-498d-9f1d-85ac3df2e37a",
   "metadata": {},
   "outputs": [],
   "source": [
    "list1 = [1,2,3,4, [44,55,66, True], False, (34,56,78,89,34), {1,2,3}, {1:34, \"key2\": [55, 67, 78, 89], 4: (45,\n",
    "22, 61, 34)}, [56, 'data science'], 'Machine Learning']"
   ]
  },
  {
   "cell_type": "code",
   "execution_count": 59,
   "id": "7f59830a-fef6-4c8b-b2a1-3acbf173a762",
   "metadata": {},
   "outputs": [],
   "source": [
    "##Q1\n"
   ]
  },
  {
   "cell_type": "code",
   "execution_count": 58,
   "id": "39e95a02-5f1e-469c-a4e8-a8a1be05bde0",
   "metadata": {},
   "outputs": [
    {
     "data": {
      "text/plain": [
       "12305689996985373448910241792000"
      ]
     },
     "execution_count": 58,
     "metadata": {},
     "output_type": "execute_result"
    }
   ],
   "source": [
    "list2 = [] \n",
    "list3 = []\n",
    "for i in range(0,len(list1)):\n",
    "    if type(list1[i]) is int:\n",
    "        list2.append(list1[i])\n",
    "    \n",
    "    if type(list1[i]) is list:\n",
    "        for j in range(0,len(list1[i])):\n",
    "            if type(list1[i][j]) is int:\n",
    "                list2.append(list1[i][j])\n",
    "                \n",
    "                \n",
    "    if type(list1[i]) is tuple:\n",
    "        for j in range(0,len(list1[i])):\n",
    "            if type(list1[i][j]) is int:\n",
    "                list2.append(list1[i][j])\n",
    "      \n",
    "                \n",
    "    if type(list1[i]) is dict:\n",
    "        for j in list1[i]:\n",
    "            if type(list1[i][j]) is int:\n",
    "                list2.append(list1[i][j])\n",
    "            if type(j) is int:\n",
    "                list2.append(j)\n",
    "            if type(list1[i][j]) is list:\n",
    "                list2.append(list1[i][j])\n",
    "            if type(list1[i][j]) is tuple:\n",
    "                list2.append(list1[i][j])               \n",
    "                \n",
    "                for i in range(0,len(list2)):\n",
    "                    if type(list2[i]) is list:\n",
    "                        for j in range(0,len(list2[i])):\n",
    "                            if type(list2[i][j]) is int:\n",
    "                                list3.append(list2[i][j])\n",
    "                                \n",
    "                    if type(list2[i]) is tuple:\n",
    "                        for j in range(0,len(list2[i])):\n",
    "                            if type(list2[i][j]) is int:\n",
    "                                list3.append(list2[i][j])\n",
    "                                \n",
    "                    if type(list2[i]) is int:\n",
    "                        list3.append(list2[i])\n",
    "                        \n",
    "                        \n",
    "from functools import reduce\n",
    "reduce(lambda x,y : x*y , list3)\n",
    "                                \n",
    "                \n",
    "        \n",
    "    \n",
    "        \n",
    "        \n",
    "        "
   ]
  },
  {
   "cell_type": "code",
   "execution_count": 60,
   "id": "4c3c212d-0a94-4b6d-9315-1f0e28acf773",
   "metadata": {},
   "outputs": [
    {
     "data": {
      "text/plain": [
       "[1,\n",
       " 2,\n",
       " 3,\n",
       " 4,\n",
       " 44,\n",
       " 55,\n",
       " 66,\n",
       " 34,\n",
       " 56,\n",
       " 78,\n",
       " 89,\n",
       " 34,\n",
       " 34,\n",
       " 1,\n",
       " 55,\n",
       " 67,\n",
       " 78,\n",
       " 89,\n",
       " 4,\n",
       " 45,\n",
       " 22,\n",
       " 61,\n",
       " 34]"
      ]
     },
     "execution_count": 60,
     "metadata": {},
     "output_type": "execute_result"
    }
   ],
   "source": [
    "list3"
   ]
  },
  {
   "cell_type": "code",
   "execution_count": 61,
   "id": "11eb56ba-320e-416a-b7b8-612a52a77464",
   "metadata": {},
   "outputs": [],
   "source": [
    "##Q2"
   ]
  },
  {
   "cell_type": "code",
   "execution_count": 62,
   "id": "c2044b5f-4323-495f-b6f7-39d77c97cd8b",
   "metadata": {},
   "outputs": [
    {
     "name": "stdin",
     "output_type": "stream",
     "text": [
      "Enter your message I want to become a Data Scientist\n"
     ]
    },
    {
     "name": "stdout",
     "output_type": "stream",
     "text": [
      "i\n",
      "$\n",
      "w\n",
      "z\n",
      "n\n",
      "t\n",
      "$\n",
      "t\n",
      "o\n",
      "$\n",
      "y\n",
      "e\n",
      "x\n",
      "o\n",
      "m\n",
      "e\n",
      "$\n",
      "z\n",
      "$\n",
      "d\n",
      "z\n",
      "t\n",
      "z\n",
      "$\n",
      "s\n",
      "x\n",
      "i\n",
      "e\n",
      "n\n",
      "t\n",
      "i\n",
      "s\n",
      "t\n"
     ]
    }
   ],
   "source": [
    "l = input(\"Enter your message\")\n",
    "for i in l.lower():\n",
    "    if i == \"a\" :\n",
    "        i =\"z\"\n",
    "    if i == \"b\":\n",
    "        i=\"y\"\n",
    "    if i == \"c\":\n",
    "        i=\"x\"\n",
    "    if i == \" \":\n",
    "        i = \"$\"\n",
    "    print(i)\n",
    "       "
   ]
  },
  {
   "cell_type": "code",
   "execution_count": null,
   "id": "23b83619-75ac-4e9d-a9f4-b1743660ce89",
   "metadata": {},
   "outputs": [],
   "source": []
  }
 ],
 "metadata": {
  "kernelspec": {
   "display_name": "Python 3 (ipykernel)",
   "language": "python",
   "name": "python3"
  },
  "language_info": {
   "codemirror_mode": {
    "name": "ipython",
    "version": 3
   },
   "file_extension": ".py",
   "mimetype": "text/x-python",
   "name": "python",
   "nbconvert_exporter": "python",
   "pygments_lexer": "ipython3",
   "version": "3.10.8"
  }
 },
 "nbformat": 4,
 "nbformat_minor": 5
}
